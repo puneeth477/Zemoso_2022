{
 "cells": [
  {
   "cell_type": "code",
   "execution_count": 1,
   "id": "b3287ec7",
   "metadata": {},
   "outputs": [],
   "source": [
    "import csv, json"
   ]
  },
  {
   "cell_type": "code",
   "execution_count": 2,
   "id": "4996c49c",
   "metadata": {},
   "outputs": [],
   "source": [
    "NLP_DataPath = \"E:\\Zemoso Personal\\ParseHub Datasets\\Final_NLP_Dataset.csv\"\n",
    "jsonFilePath = \"Final_NLP.json\""
   ]
  },
  {
   "cell_type": "code",
   "execution_count": 4,
   "id": "ba912ad9",
   "metadata": {},
   "outputs": [
    {
     "ename": "IndentationError",
     "evalue": "expected an indented block (3760614862.py, line 5)",
     "output_type": "error",
     "traceback": [
      "\u001b[1;36m  Input \u001b[1;32mIn [4]\u001b[1;36m\u001b[0m\n\u001b[1;33m    \u001b[0m\n\u001b[1;37m    ^\u001b[0m\n\u001b[1;31mIndentationError\u001b[0m\u001b[1;31m:\u001b[0m expected an indented block\n"
     ]
    }
   ],
   "source": [
    "\n",
    "        "
   ]
  }
 ],
 "metadata": {
  "kernelspec": {
   "display_name": "Python 3 (ipykernel)",
   "language": "python",
   "name": "python3"
  },
  "language_info": {
   "codemirror_mode": {
    "name": "ipython",
    "version": 3
   },
   "file_extension": ".py",
   "mimetype": "text/x-python",
   "name": "python",
   "nbconvert_exporter": "python",
   "pygments_lexer": "ipython3",
   "version": "3.9.12"
  }
 },
 "nbformat": 4,
 "nbformat_minor": 5
}
